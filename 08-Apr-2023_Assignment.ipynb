{
 "cells": [
  {
   "cell_type": "markdown",
   "id": "b6487427",
   "metadata": {},
   "source": [
    "Dataset link:https://drive.google.com/file/d/1Z9oLpmt6IDRNw7IeNcHYTGeJRYypRSC0/view?usp=share_link"
   ]
  },
  {
   "cell_type": "markdown",
   "id": "ce530ee0",
   "metadata": {},
   "source": [
    "When predicting house prices using an SVM regression model (or any regression model), several metrics can be used to evaluate the performance of the model. Some of the commonly used regression metrics include:\n",
    "\n",
    "**1.    Mean Absolute Error (MAE)**: This is the average of the absolute differences between predicted and actual values. It provides a linear penalty for each unit of difference between the predicted and actual values.\n",
    "\n",
    "**2.    Mean Squared Error (MSE)**: This is the average of the squared differences between predicted and actual values. It provides a quadratic penalty for errors, meaning larger errors are penalized more heavily than smaller ones.\n",
    "\n",
    "**3.    Root Mean Squared Error (RMSE)**: This is the square root of the MSE and is one of the most commonly used metrics for regression. Like the MSE, it gives a higher weight to larger errors.\n",
    "\n",
    "**4.    R-squared (Coefficient of Determination)**: This metric measures the proportion of the variance in the dependent variable that is predictable from the independent variables. It provides a measure of how well the model's predictions match the actual data. An R2R2 value of 1 indicates perfect prediction, while an R2R2 value of 0 indicates that the model does not improve the prediction over the mean of the target variable.\n",
    "\n",
    "**5.    Mean Absolute Percentage Error (MAPE)**: This metric provides the average of the absolute percentage differences between predicted and actual values.\n",
    "\n",
    "Given that the context is predicting house prices:\n",
    "\n",
    "*    RMSE is often preferred because it provides a more interpretable value (in the same units as the target variable) and penalizes larger errors more.\n",
    "\n",
    "Let's load the dataset and see some basic statistics to get a better understanding of the data and then decide on the metric."
   ]
  },
  {
   "cell_type": "code",
   "execution_count": 1,
   "id": "a5ee9031",
   "metadata": {},
   "outputs": [
    {
     "data": {
      "text/html": [
       "<div>\n",
       "<style scoped>\n",
       "    .dataframe tbody tr th:only-of-type {\n",
       "        vertical-align: middle;\n",
       "    }\n",
       "\n",
       "    .dataframe tbody tr th {\n",
       "        vertical-align: top;\n",
       "    }\n",
       "\n",
       "    .dataframe thead th {\n",
       "        text-align: right;\n",
       "    }\n",
       "</style>\n",
       "<table border=\"1\" class=\"dataframe\">\n",
       "  <thead>\n",
       "    <tr style=\"text-align: right;\">\n",
       "      <th></th>\n",
       "      <th>area_type</th>\n",
       "      <th>availability</th>\n",
       "      <th>location</th>\n",
       "      <th>size</th>\n",
       "      <th>society</th>\n",
       "      <th>total_sqft</th>\n",
       "      <th>bath</th>\n",
       "      <th>balcony</th>\n",
       "      <th>price</th>\n",
       "    </tr>\n",
       "  </thead>\n",
       "  <tbody>\n",
       "    <tr>\n",
       "      <th>0</th>\n",
       "      <td>Super built-up  Area</td>\n",
       "      <td>19-Dec</td>\n",
       "      <td>Electronic City Phase II</td>\n",
       "      <td>2 BHK</td>\n",
       "      <td>Coomee</td>\n",
       "      <td>1056</td>\n",
       "      <td>2.0</td>\n",
       "      <td>1.0</td>\n",
       "      <td>39.07</td>\n",
       "    </tr>\n",
       "    <tr>\n",
       "      <th>1</th>\n",
       "      <td>Plot  Area</td>\n",
       "      <td>Ready To Move</td>\n",
       "      <td>Chikka Tirupathi</td>\n",
       "      <td>4 Bedroom</td>\n",
       "      <td>Theanmp</td>\n",
       "      <td>2600</td>\n",
       "      <td>5.0</td>\n",
       "      <td>3.0</td>\n",
       "      <td>120.00</td>\n",
       "    </tr>\n",
       "    <tr>\n",
       "      <th>2</th>\n",
       "      <td>Built-up  Area</td>\n",
       "      <td>Ready To Move</td>\n",
       "      <td>Uttarahalli</td>\n",
       "      <td>3 BHK</td>\n",
       "      <td>NaN</td>\n",
       "      <td>1440</td>\n",
       "      <td>2.0</td>\n",
       "      <td>3.0</td>\n",
       "      <td>62.00</td>\n",
       "    </tr>\n",
       "    <tr>\n",
       "      <th>3</th>\n",
       "      <td>Super built-up  Area</td>\n",
       "      <td>Ready To Move</td>\n",
       "      <td>Lingadheeranahalli</td>\n",
       "      <td>3 BHK</td>\n",
       "      <td>Soiewre</td>\n",
       "      <td>1521</td>\n",
       "      <td>3.0</td>\n",
       "      <td>1.0</td>\n",
       "      <td>95.00</td>\n",
       "    </tr>\n",
       "    <tr>\n",
       "      <th>4</th>\n",
       "      <td>Super built-up  Area</td>\n",
       "      <td>Ready To Move</td>\n",
       "      <td>Kothanur</td>\n",
       "      <td>2 BHK</td>\n",
       "      <td>NaN</td>\n",
       "      <td>1200</td>\n",
       "      <td>2.0</td>\n",
       "      <td>1.0</td>\n",
       "      <td>51.00</td>\n",
       "    </tr>\n",
       "  </tbody>\n",
       "</table>\n",
       "</div>"
      ],
      "text/plain": [
       "              area_type   availability                  location       size  \\\n",
       "0  Super built-up  Area         19-Dec  Electronic City Phase II      2 BHK   \n",
       "1            Plot  Area  Ready To Move          Chikka Tirupathi  4 Bedroom   \n",
       "2        Built-up  Area  Ready To Move               Uttarahalli      3 BHK   \n",
       "3  Super built-up  Area  Ready To Move        Lingadheeranahalli      3 BHK   \n",
       "4  Super built-up  Area  Ready To Move                  Kothanur      2 BHK   \n",
       "\n",
       "   society total_sqft  bath  balcony   price  \n",
       "0  Coomee        1056   2.0      1.0   39.07  \n",
       "1  Theanmp       2600   5.0      3.0  120.00  \n",
       "2      NaN       1440   2.0      3.0   62.00  \n",
       "3  Soiewre       1521   3.0      1.0   95.00  \n",
       "4      NaN       1200   2.0      1.0   51.00  "
      ]
     },
     "execution_count": 1,
     "metadata": {},
     "output_type": "execute_result"
    }
   ],
   "source": [
    "import pandas as pd\n",
    "\n",
    "# Load the dataset\n",
    "house_data = pd.read_csv('Bengaluru_House_Data.csv')\n",
    "house_data.head()"
   ]
  },
  {
   "cell_type": "code",
   "execution_count": 2,
   "id": "fead46a2",
   "metadata": {},
   "outputs": [
    {
     "data": {
      "text/html": [
       "<div>\n",
       "<style scoped>\n",
       "    .dataframe tbody tr th:only-of-type {\n",
       "        vertical-align: middle;\n",
       "    }\n",
       "\n",
       "    .dataframe tbody tr th {\n",
       "        vertical-align: top;\n",
       "    }\n",
       "\n",
       "    .dataframe thead th {\n",
       "        text-align: right;\n",
       "    }\n",
       "</style>\n",
       "<table border=\"1\" class=\"dataframe\">\n",
       "  <thead>\n",
       "    <tr style=\"text-align: right;\">\n",
       "      <th></th>\n",
       "      <th>area_type</th>\n",
       "      <th>availability</th>\n",
       "      <th>location</th>\n",
       "      <th>size</th>\n",
       "      <th>society</th>\n",
       "      <th>total_sqft</th>\n",
       "      <th>bath</th>\n",
       "      <th>balcony</th>\n",
       "      <th>price</th>\n",
       "    </tr>\n",
       "  </thead>\n",
       "  <tbody>\n",
       "    <tr>\n",
       "      <th>13315</th>\n",
       "      <td>Built-up  Area</td>\n",
       "      <td>Ready To Move</td>\n",
       "      <td>Whitefield</td>\n",
       "      <td>5 Bedroom</td>\n",
       "      <td>ArsiaEx</td>\n",
       "      <td>3453</td>\n",
       "      <td>4.0</td>\n",
       "      <td>0.0</td>\n",
       "      <td>231.0</td>\n",
       "    </tr>\n",
       "    <tr>\n",
       "      <th>13316</th>\n",
       "      <td>Super built-up  Area</td>\n",
       "      <td>Ready To Move</td>\n",
       "      <td>Richards Town</td>\n",
       "      <td>4 BHK</td>\n",
       "      <td>NaN</td>\n",
       "      <td>3600</td>\n",
       "      <td>5.0</td>\n",
       "      <td>NaN</td>\n",
       "      <td>400.0</td>\n",
       "    </tr>\n",
       "    <tr>\n",
       "      <th>13317</th>\n",
       "      <td>Built-up  Area</td>\n",
       "      <td>Ready To Move</td>\n",
       "      <td>Raja Rajeshwari Nagar</td>\n",
       "      <td>2 BHK</td>\n",
       "      <td>Mahla T</td>\n",
       "      <td>1141</td>\n",
       "      <td>2.0</td>\n",
       "      <td>1.0</td>\n",
       "      <td>60.0</td>\n",
       "    </tr>\n",
       "    <tr>\n",
       "      <th>13318</th>\n",
       "      <td>Super built-up  Area</td>\n",
       "      <td>18-Jun</td>\n",
       "      <td>Padmanabhanagar</td>\n",
       "      <td>4 BHK</td>\n",
       "      <td>SollyCl</td>\n",
       "      <td>4689</td>\n",
       "      <td>4.0</td>\n",
       "      <td>1.0</td>\n",
       "      <td>488.0</td>\n",
       "    </tr>\n",
       "    <tr>\n",
       "      <th>13319</th>\n",
       "      <td>Super built-up  Area</td>\n",
       "      <td>Ready To Move</td>\n",
       "      <td>Doddathoguru</td>\n",
       "      <td>1 BHK</td>\n",
       "      <td>NaN</td>\n",
       "      <td>550</td>\n",
       "      <td>1.0</td>\n",
       "      <td>1.0</td>\n",
       "      <td>17.0</td>\n",
       "    </tr>\n",
       "  </tbody>\n",
       "</table>\n",
       "</div>"
      ],
      "text/plain": [
       "                  area_type   availability               location       size  \\\n",
       "13315        Built-up  Area  Ready To Move             Whitefield  5 Bedroom   \n",
       "13316  Super built-up  Area  Ready To Move          Richards Town      4 BHK   \n",
       "13317        Built-up  Area  Ready To Move  Raja Rajeshwari Nagar      2 BHK   \n",
       "13318  Super built-up  Area         18-Jun        Padmanabhanagar      4 BHK   \n",
       "13319  Super built-up  Area  Ready To Move           Doddathoguru      1 BHK   \n",
       "\n",
       "       society total_sqft  bath  balcony  price  \n",
       "13315  ArsiaEx       3453   4.0      0.0  231.0  \n",
       "13316      NaN       3600   5.0      NaN  400.0  \n",
       "13317  Mahla T       1141   2.0      1.0   60.0  \n",
       "13318  SollyCl       4689   4.0      1.0  488.0  \n",
       "13319      NaN        550   1.0      1.0   17.0  "
      ]
     },
     "execution_count": 2,
     "metadata": {},
     "output_type": "execute_result"
    }
   ],
   "source": [
    "house_data.tail()"
   ]
  },
  {
   "cell_type": "code",
   "execution_count": 4,
   "id": "bf1df524",
   "metadata": {},
   "outputs": [
    {
     "name": "stdout",
     "output_type": "stream",
     "text": [
      "<class 'pandas.core.frame.DataFrame'>\n",
      "RangeIndex: 13320 entries, 0 to 13319\n",
      "Data columns (total 9 columns):\n",
      " #   Column        Non-Null Count  Dtype  \n",
      "---  ------        --------------  -----  \n",
      " 0   area_type     13320 non-null  object \n",
      " 1   availability  13320 non-null  object \n",
      " 2   location      13319 non-null  object \n",
      " 3   size          13304 non-null  object \n",
      " 4   society       7818 non-null   object \n",
      " 5   total_sqft    13320 non-null  object \n",
      " 6   bath          13247 non-null  float64\n",
      " 7   balcony       12711 non-null  float64\n",
      " 8   price         13320 non-null  float64\n",
      "dtypes: float64(3), object(6)\n",
      "memory usage: 936.7+ KB\n"
     ]
    }
   ],
   "source": [
    "house_data.info()"
   ]
  },
  {
   "cell_type": "code",
   "execution_count": 6,
   "id": "f2f3e891",
   "metadata": {},
   "outputs": [
    {
     "data": {
      "text/html": [
       "<div>\n",
       "<style scoped>\n",
       "    .dataframe tbody tr th:only-of-type {\n",
       "        vertical-align: middle;\n",
       "    }\n",
       "\n",
       "    .dataframe tbody tr th {\n",
       "        vertical-align: top;\n",
       "    }\n",
       "\n",
       "    .dataframe thead th {\n",
       "        text-align: right;\n",
       "    }\n",
       "</style>\n",
       "<table border=\"1\" class=\"dataframe\">\n",
       "  <thead>\n",
       "    <tr style=\"text-align: right;\">\n",
       "      <th></th>\n",
       "      <th>bath</th>\n",
       "      <th>balcony</th>\n",
       "      <th>price</th>\n",
       "    </tr>\n",
       "  </thead>\n",
       "  <tbody>\n",
       "    <tr>\n",
       "      <th>count</th>\n",
       "      <td>13247.000000</td>\n",
       "      <td>12711.000000</td>\n",
       "      <td>13320.000000</td>\n",
       "    </tr>\n",
       "    <tr>\n",
       "      <th>mean</th>\n",
       "      <td>2.692610</td>\n",
       "      <td>1.584376</td>\n",
       "      <td>112.565627</td>\n",
       "    </tr>\n",
       "    <tr>\n",
       "      <th>std</th>\n",
       "      <td>1.341458</td>\n",
       "      <td>0.817263</td>\n",
       "      <td>148.971674</td>\n",
       "    </tr>\n",
       "    <tr>\n",
       "      <th>min</th>\n",
       "      <td>1.000000</td>\n",
       "      <td>0.000000</td>\n",
       "      <td>8.000000</td>\n",
       "    </tr>\n",
       "    <tr>\n",
       "      <th>25%</th>\n",
       "      <td>2.000000</td>\n",
       "      <td>1.000000</td>\n",
       "      <td>50.000000</td>\n",
       "    </tr>\n",
       "    <tr>\n",
       "      <th>50%</th>\n",
       "      <td>2.000000</td>\n",
       "      <td>2.000000</td>\n",
       "      <td>72.000000</td>\n",
       "    </tr>\n",
       "    <tr>\n",
       "      <th>75%</th>\n",
       "      <td>3.000000</td>\n",
       "      <td>2.000000</td>\n",
       "      <td>120.000000</td>\n",
       "    </tr>\n",
       "    <tr>\n",
       "      <th>max</th>\n",
       "      <td>40.000000</td>\n",
       "      <td>3.000000</td>\n",
       "      <td>3600.000000</td>\n",
       "    </tr>\n",
       "  </tbody>\n",
       "</table>\n",
       "</div>"
      ],
      "text/plain": [
       "               bath       balcony         price\n",
       "count  13247.000000  12711.000000  13320.000000\n",
       "mean       2.692610      1.584376    112.565627\n",
       "std        1.341458      0.817263    148.971674\n",
       "min        1.000000      0.000000      8.000000\n",
       "25%        2.000000      1.000000     50.000000\n",
       "50%        2.000000      2.000000     72.000000\n",
       "75%        3.000000      2.000000    120.000000\n",
       "max       40.000000      3.000000   3600.000000"
      ]
     },
     "execution_count": 6,
     "metadata": {},
     "output_type": "execute_result"
    }
   ],
   "source": [
    "house_data.describe()"
   ]
  },
  {
   "cell_type": "code",
   "execution_count": 9,
   "id": "fc7ef57e",
   "metadata": {},
   "outputs": [
    {
     "data": {
      "text/plain": [
       "area_type          0\n",
       "availability       0\n",
       "location           1\n",
       "size              16\n",
       "society         5502\n",
       "total_sqft         0\n",
       "bath              73\n",
       "balcony          609\n",
       "price              0\n",
       "dtype: int64"
      ]
     },
     "execution_count": 9,
     "metadata": {},
     "output_type": "execute_result"
    }
   ],
   "source": [
    "house_data.isnull().sum()"
   ]
  },
  {
   "cell_type": "markdown",
   "id": "3adcd11f",
   "metadata": {},
   "source": [
    "# Q1. In order to predict house price based on several characteristics, such as location, square footage, number of bedrooms, etc., you are developing an SVM regression model. Which regression metric in this situation would be the best to employ?"
   ]
  },
  {
   "cell_type": "markdown",
   "id": "516fa103",
   "metadata": {},
   "source": [
    "When predicting a continuous variable like house price, commonly used regression metrics include:\n",
    "\n",
    "1.    Mean Squared Error (MSE)\n",
    "\n",
    "2.    Root Mean Squared Error (RMSE)\n",
    "\n",
    "3.    Mean Absolute Error (MAE)\n",
    "\n",
    "4.    R-squared (R2)\n",
    "\n",
    "The choice of metric depends on the specific goals and characteristics of the data. For instance:\n",
    "\n",
    "*    **MSE** and **RMSE** give more weight to larger errors. If it's crucial to penalize large errors more than small ones, these metrics might be more appropriate.\n",
    "\n",
    "*    **MAE** gives a linear penalty to all errors, regardless of their size. It's less sensitive to outliers compared to MSE/RMSE.\n",
    "\n",
    "*    R2 tells you the proportion of variance in the dependent variable that's predictable from the independent variables. It doesn't directly tell you how much the predictions are off in terms of the unit of the dependent variable.\n",
    "\n",
    "Given the goal is to predict the house price based on several characteristics, if the primary concern is the magnitude of errors (e.g., how much the predicted price is off from the actual price), **RMSE** might be a good choice because it's in the same unit as the target variable (price) and gives more weight to larger errors."
   ]
  },
  {
   "cell_type": "markdown",
   "id": "e2dc70ab",
   "metadata": {},
   "source": [
    "# Q2. You have built an SVM regression model and are trying to decide between using MSE or R-squared as your evaluation metric. Which metric would be more appropriate if your goal is to predict the actual price of a house as accurately as possible?"
   ]
  },
  {
   "cell_type": "markdown",
   "id": "41c288d5",
   "metadata": {},
   "source": [
    "If the primary objective is to predict the actual price of a house as accurately as possible, then you would be most concerned with the magnitude of errors. In this context:\n",
    "\n",
    "* **MSE (Mean Squared Error)**: This metric calculates the average of the squared differences between the predicted and actual values. It gives more weight to large errors because they are squared. Hence, a model with larger individual errors will have a larger MSE. It's a good measure of the model's accuracy in terms of how close the predictions are to the actual values.\n",
    "\n",
    "* **R2 (Coefficient of Determination)**: This metric measures the proportion of the variance in the dependent variable that is predictable from the independent variables. While it provides an understanding of how well the independent variables explain the variability in the target variable, it doesn't directly inform about the magnitude of prediction errors.\n",
    "\n",
    "Given the goal is to predict the actual price as accurately as possible, **MSE** would be more appropriate. It directly measures the average squared differences between predicted and actual prices, making it a more suitable metric for assessing prediction accuracy."
   ]
  },
  {
   "cell_type": "markdown",
   "id": "be9572b4",
   "metadata": {},
   "source": [
    "# Q3. You have a dataset with a significant number of outliers and are trying to select an appropriate regression metric to use with your SVM model. Which metric would be the most appropriate in this scenario?"
   ]
  },
  {
   "cell_type": "markdown",
   "id": "e8b70bca",
   "metadata": {},
   "source": [
    "When dealing with a dataset that has a significant number of outliers, certain regression metrics can be heavily influenced:\n",
    "\n",
    "*  **MSE (Mean Squared Error)**: Given that MSE squares the differences between the predicted and actual values, it is sensitive to outliers. A few large errors (due to outliers) can significantly increase the MSE value.\n",
    "\n",
    "*  **RMSE (Root Mean Squared Error)**: Since RMSE is the square root of MSE, it too is sensitive to outliers.\n",
    "\n",
    "*  **MAE (Mean Absolute Error)**: MAE calculates the average of the absolute differences between the predicted and actual values. It gives a linear penalty to all errors, making it less sensitive to outliers compared to MSE and RMSE.\n",
    "\n",
    "Given the presence of a significant number of outliers in the dataset, **MAE (Mean Absolute Error)** would be the most appropriate metric. It provides a measure of prediction accuracy that is less influenced by outliers."
   ]
  },
  {
   "cell_type": "markdown",
   "id": "5ffb5f58",
   "metadata": {},
   "source": [
    "# Q4. You have built an SVM regression model using a polynomial kernel and are trying to select the best metric to evaluate its performance. You have calculated both MSE and RMSE and found that both values are very close. Which metric should you choose to use in this case?"
   ]
  },
  {
   "cell_type": "markdown",
   "id": "7397fa72",
   "metadata": {},
   "source": [
    "Both MSE (Mean Squared Error) and RMSE (Root Mean Squared Error) measure the magnitude of errors between predicted and actual values. The primary difference between the two is the scale:\n",
    "\n",
    "*    **MSE**: Represents the average of the squared differences between predicted and actual values.\n",
    "*    **RMSE**: It's the square root of MSE and thus provides error terms in the same unit as the target variable.\n",
    "\n",
    "If the values of MSE and RMSE are very close, it suggests that the errors are generally small. The choice between the two metrics, in this case, depends on interpretability:\n",
    "\n",
    "*    If you want a metric that provides error terms in the same unit as the target variable (price, in this case), then **RMSE** is preferable.\n",
    "\n",
    "*    If you are more concerned with penalizing larger errors and are okay with a squared error scale, then **MSE** is fine.\n",
    "\n",
    "Given that RMSE provides a more intuitive interpretation (error in the same unit as the target), it is generally favored when the goal is to communicate the model's performance to a broader audience or for direct comparisons.\n",
    "\n",
    "Thus, in this scenario, **RMSE** would likely be the better choice for evaluating the model's performance."
   ]
  },
  {
   "cell_type": "markdown",
   "id": "1625d5a4",
   "metadata": {},
   "source": [
    "# Q5. You are comparing the performance of different SVM regression models using different kernels (linear, polynomial, and RBF) and are trying to select the best evaluation metric. Which metric would be most appropriate if your goal is to measure how well the model explains the variance in the target variable?"
   ]
  },
  {
   "cell_type": "markdown",
   "id": "2da5ffb5",
   "metadata": {},
   "source": [
    "If the objective is to measure how well the model explains the variance in the target variable, the R2 (Coefficient of Determination) metric is the most suitable:\n",
    "\n",
    "R2 (Coefficient of Determination): This metric calculates the proportion of the variance in the dependent variable that's predictable from the independent variables. An R2 value of 1 indicates that the regression predictions perfectly fit the data, while an R2 value of 0 indicates that the model does not explain any of the variation in the response variable.\n",
    "\n",
    "In other words, R2 provides a measure of how well the model's predictions match the actual data. It is especially useful when comparing different models to see which one accounts for the most variance in the target variable.\n",
    "\n",
    "Therefore, given the goal of measuring how well the model explains the variance in the target variable, R2 would be the most appropriate metric."
   ]
  },
  {
   "cell_type": "code",
   "execution_count": null,
   "id": "70326d03",
   "metadata": {},
   "outputs": [],
   "source": []
  }
 ],
 "metadata": {
  "kernelspec": {
   "display_name": "Python 3 (ipykernel)",
   "language": "python",
   "name": "python3"
  },
  "language_info": {
   "codemirror_mode": {
    "name": "ipython",
    "version": 3
   },
   "file_extension": ".py",
   "mimetype": "text/x-python",
   "name": "python",
   "nbconvert_exporter": "python",
   "pygments_lexer": "ipython3",
   "version": "3.10.4"
  }
 },
 "nbformat": 4,
 "nbformat_minor": 5
}
